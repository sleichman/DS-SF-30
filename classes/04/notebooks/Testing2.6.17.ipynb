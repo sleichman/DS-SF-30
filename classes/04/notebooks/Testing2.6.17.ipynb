{
 "cells": [
  {
   "cell_type": "code",
   "execution_count": 1,
   "metadata": {
    "collapsed": true
   },
   "outputs": [],
   "source": [
    "import os\n",
    "\n",
    "import pandas as pd\n",
    "pd.set_option('display.max_rows', 30)\n",
    "pd.set_option('display.notebook_repr_html', True)\n",
    "pd.set_option('display.max_columns', 10)\n",
    "\n",
    "import matplotlib.pyplot as plt\n",
    "%matplotlib inline\n",
    "plt.style.use('ggplot')"
   ]
  },
  {
   "cell_type": "code",
   "execution_count": 4,
   "metadata": {
    "collapsed": false
   },
   "outputs": [
    {
     "name": "stderr",
     "output_type": "stream",
     "text": [
      "/Users/samuelleichman/anaconda/lib/python2.7/site-packages/IPython/core/interactiveshell.py:2717: DtypeWarning: Columns (19) have mixed types. Specify dtype option on import or set low_memory=False.\n",
      "  interactivity=interactivity, compiler=compiler, result=result)\n"
     ]
    }
   ],
   "source": [
    "df = pd.read_csv('/Users/samuelleichman/DS-SF-30/unit-project/dataset/Q107v5.csv')"
   ]
  },
  {
   "cell_type": "code",
   "execution_count": 6,
   "metadata": {
    "collapsed": false
   },
   "outputs": [
    {
     "data": {
      "text/plain": [
       "Index([u'ShipDate', u'Order_Week', u'OrderNumber', u'ItemCode',\n",
       "       u'ItemDescription', u'OrderLocation', u'SKUCode', u'Department',\n",
       "       u'UnitsSold_', u'NetRevenue', u'TotalCOGS_', u'GrossMarginDollars_',\n",
       "       u'GrossMarginPercent_', u'CurrentAverageCost_',\n",
       "       u'CurrentRetailPriceEach_', u'Current_GM_Each_', u'Class', u'Quarter',\n",
       "       u'Discount', u'Discount_Rate', u'Full_Path_Sales'],\n",
       "      dtype='object')"
      ]
     },
     "execution_count": 6,
     "metadata": {},
     "output_type": "execute_result"
    }
   ],
   "source": [
    "df.columns"
   ]
  },
  {
   "cell_type": "code",
   "execution_count": 7,
   "metadata": {
    "collapsed": false
   },
   "outputs": [
    {
     "data": {
      "text/plain": [
       "ShipDate                    object\n",
       "Order_Week                  object\n",
       "OrderNumber                 object\n",
       "ItemCode                    object\n",
       "ItemDescription             object\n",
       "OrderLocation               object\n",
       "SKUCode                      int64\n",
       "Department                  object\n",
       "UnitsSold_                   int64\n",
       "NetRevenue                 float64\n",
       "TotalCOGS_                 float64\n",
       "GrossMarginDollars_        float64\n",
       "GrossMarginPercent_        float64\n",
       "CurrentAverageCost_        float64\n",
       "CurrentRetailPriceEach_    float64\n",
       "Current_GM_Each_           float64\n",
       "Class                       object\n",
       "Quarter                     object\n",
       "Discount                   float64\n",
       "Discount_Rate               object\n",
       "Full_Path_Sales            float64\n",
       "dtype: object"
      ]
     },
     "execution_count": 7,
     "metadata": {},
     "output_type": "execute_result"
    }
   ],
   "source": [
    "df.dtypes"
   ]
  },
  {
   "cell_type": "code",
   "execution_count": 14,
   "metadata": {
    "collapsed": false
   },
   "outputs": [],
   "source": [
    "TotalDiscounts = 1 - df.NetRevenue.sum() / df.Full_Path_Sales.sum()"
   ]
  },
  {
   "cell_type": "code",
   "execution_count": 15,
   "metadata": {
    "collapsed": false
   },
   "outputs": [
    {
     "data": {
      "text/plain": [
       "<matplotlib.axes._subplots.AxesSubplot at 0x11333c250>"
      ]
     },
     "execution_count": 15,
     "metadata": {},
     "output_type": "execute_result"
    },
    {
     "data": {
      "image/png": "[encoded data removed]",
      "text/plain": [
       "<matplotlib.figure.Figure at 0x113309750>"
      ]
     },
     "metadata": {},
     "output_type": "display_data"
    }
   ],
   "source": [
    "df.UnitsSold_.hist(figsize = (8, 8))"
   ]
  },
  {
   "cell_type": "code",
   "execution_count": 18,
   "metadata": {
    "collapsed": false
   },
   "outputs": [
    {
     "ename": "SyntaxError",
     "evalue": "invalid syntax (<ipython-input-18-28e5f988b8c0>, line 1)",
     "output_type": "error",
     "traceback": [
      "\u001b[0;36m  File \u001b[0;32m\"<ipython-input-18-28e5f988b8c0>\"\u001b[0;36m, line \u001b[0;32m1\u001b[0m\n\u001b[0;31m    df.'WORKSPACE'.count()\u001b[0m\n\u001b[0m                 ^\u001b[0m\n\u001b[0;31mSyntaxError\u001b[0m\u001b[0;31m:\u001b[0m invalid syntax\n"
     ]
    }
   ],
   "source": [
    "df.'WORKSPACE'.count()"
   ]
  },
  {
   "cell_type": "code",
   "execution_count": 19,
   "metadata": {
    "collapsed": false
   },
   "outputs": [
    {
     "data": {
      "text/plain": [
       "Index([u'ShipDate', u'Order_Week', u'OrderNumber', u'ItemCode',\n",
       "       u'ItemDescription', u'OrderLocation', u'SKUCode', u'Department',\n",
       "       u'UnitsSold_', u'NetRevenue', u'TotalCOGS_', u'GrossMarginDollars_',\n",
       "       u'GrossMarginPercent_', u'CurrentAverageCost_',\n",
       "       u'CurrentRetailPriceEach_', u'Current_GM_Each_', u'Class', u'Quarter',\n",
       "       u'Discount', u'Discount_Rate', u'Full_Path_Sales'],\n",
       "      dtype='object')"
      ]
     },
     "execution_count": 19,
     "metadata": {},
     "output_type": "execute_result"
    }
   ],
   "source": [
    "df.columns"
   ]
  },
  {
   "cell_type": "code",
   "execution_count": 34,
   "metadata": {
    "collapsed": false
   },
   "outputs": [],
   "source": [
    "df_1 = [df[\"Department\"].value_counts()]"
   ]
  },
  {
   "cell_type": "code",
   "execution_count": 35,
   "metadata": {
    "collapsed": false
   },
   "outputs": [
    {
     "data": {
      "text/plain": [
       "[CLASSICS             8992\n",
       " SEATING & DINING     8638\n",
       " TOOLS FOR LIVING     8242\n",
       " UPHOLSTERY           7844\n",
       " LIGHTING             6208\n",
       " WORKSPACE            4830\n",
       " OUTDOOR              3920\n",
       " FLOOR COVERINGS      2903\n",
       " BEDROOM              2751\n",
       " ACCESSORIES          2395\n",
       " KIDS                 1048\n",
       " REPLACEMENT PARTS     420\n",
       " NON-MERCHANDISE       314\n",
       " BEDDING               145\n",
       " Name: Department, dtype: int64]"
      ]
     },
     "execution_count": 35,
     "metadata": {},
     "output_type": "execute_result"
    }
   ],
   "source": [
    "# how can I put df_1 into a histogram?\n",
    "df_1"
   ]
  },
  {
   "cell_type": "code",
   "execution_count": null,
   "metadata": {
    "collapsed": false
   },
   "outputs": [],
   "source": [
    "df.mean()"
   ]
  },
  {
   "cell_type": "code",
   "execution_count": null,
   "metadata": {
    "collapsed": true
   },
   "outputs": [],
   "source": []
  }
 ],
 "metadata": {
  "kernelspec": {
   "display_name": "Python [conda root]",
   "language": "python",
   "name": "conda-root-py"
  },
  "language_info": {
   "codemirror_mode": {
    "name": "ipython",
    "version": 2
   },
   "file_extension": ".py",
   "mimetype": "text/x-python",
   "name": "python",
   "nbconvert_exporter": "python",
   "pygments_lexer": "ipython2",
   "version": "2.7.12"
  }
 },
 "nbformat": 4,
 "nbformat_minor": 1
}
