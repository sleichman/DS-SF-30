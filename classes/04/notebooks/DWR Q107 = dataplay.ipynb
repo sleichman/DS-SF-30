{
 "cells": [
  {
   "cell_type": "code",
   "execution_count": 2,
   "metadata": {
    "collapsed": false
   },
   "outputs": [],
   "source": [
    "import os\n",
    "\n",
    "import math\n",
    "\n",
    "import numpy as np\n",
    "import pandas as pd\n",
    "pd.set_option('display.max_rows', 20)\n",
    "pd.set_option('display.notebook_repr_html', True)\n",
    "pd.set_option('display.max_columns', 10)\n",
    "\n",
    "import matplotlib.pyplot as plt\n",
    "%matplotlib inline\n",
    "plt.style.use('ggplot')"
   ]
  },
  {
   "cell_type": "code",
   "execution_count": 4,
   "metadata": {
    "collapsed": false
   },
   "outputs": [],
   "source": [
    "df = pd.read_csv('/Users/samuelleichman/DS-SF-30/unit-project/dataset/Q107II.csv')"
   ]
  },
  {
   "cell_type": "code",
   "execution_count": 52,
   "metadata": {
    "collapsed": false
   },
   "outputs": [],
   "source": [
    "var = df.iloc[4,8]\n"
   ]
  },
  {
   "cell_type": "code",
   "execution_count": 59,
   "metadata": {
    "collapsed": false
   },
   "outputs": [
    {
     "ename": "SyntaxError",
     "evalue": "EOL while scanning string literal (<ipython-input-59-ddc1cde8bca3>, line 1)",
     "output_type": "error",
     "traceback": [
      "\u001b[0;36m  File \u001b[0;32m\"<ipython-input-59-ddc1cde8bca3>\"\u001b[0;36m, line \u001b[0;32m1\u001b[0m\n\u001b[0;31m    df[df.SaleDate == '1/3/2007  12:00:00 AM’].SkuCode.mean()\u001b[0m\n\u001b[0m                                                             \n^\u001b[0m\n\u001b[0;31mSyntaxError\u001b[0m\u001b[0;31m:\u001b[0m EOL while scanning string literal\n"
     ]
    }
   ],
   "source": [
    "df[df.SaleDate == '1/3/2007  12:00:00 AM’].SkuCode.mean()"
   ]
  },
  {
   "cell_type": "code",
   "execution_count": 57,
   "metadata": {
    "collapsed": false
   },
   "outputs": [
    {
     "ename": "TypeError",
     "evalue": "unsupported operand type(s) for +: 'int' and 'str'",
     "output_type": "error",
     "traceback": [
      "\u001b[0;31m---------------------------------------------------------------------------\u001b[0m",
      "\u001b[0;31mTypeError\u001b[0m                                 Traceback (most recent call last)",
      "\u001b[0;32m<ipython-input-57-40a660fb1f05>\u001b[0m in \u001b[0;36m<module>\u001b[0;34m()\u001b[0m\n\u001b[0;32m----> 1\u001b[0;31m \u001b[0;36m3\u001b[0m \u001b[0;34m+\u001b[0m \u001b[0mvar\u001b[0m\u001b[0;34m\u001b[0m\u001b[0m\n\u001b[0m",
      "\u001b[0;31mTypeError\u001b[0m: unsupported operand type(s) for +: 'int' and 'str'"
     ]
    }
   ],
   "source": []
  },
  {
   "cell_type": "code",
   "execution_count": 29,
   "metadata": {
    "collapsed": false
   },
   "outputs": [
    {
     "data": {
      "text/plain": [
       "ShipDate                   object\n",
       "OrderNumber                object\n",
       "ItemCode                   object\n",
       "ItemDescription            object\n",
       "OrderLocation              object\n",
       "SKUCode                     int64\n",
       "Department                 object\n",
       "UnitsSold                 float64\n",
       "TotalNetRevenue            object\n",
       "TotalCOGS                  object\n",
       "GrossMarginDollars         object\n",
       "GrossMarginPercent         object\n",
       "CurrentAverageCost         object\n",
       "CurrentRetailPriceEach     object\n",
       "Current_GM_Each           float64\n",
       "Class                      object\n",
       "Category                   object\n",
       "Sub_Class                  object\n",
       "Quarter                    object\n",
       "dtype: object"
      ]
     },
     "execution_count": 29,
     "metadata": {},
     "output_type": "execute_result"
    }
   ],
   "source": [
    "df.dtypes"
   ]
  },
  {
   "cell_type": "code",
   "execution_count": 30,
   "metadata": {
    "collapsed": false
   },
   "outputs": [
    {
     "data": {
      "text/plain": [
       "<bound method DataFrame.isnull of                     ShipDate OrderNumber          ItemCode  \\\n",
       "0      1/3/2007  12:00:00 AM    G0784135        0096 WHITE   \n",
       "1      1/3/2007  12:00:00 AM    G0792852        0096 WHITE   \n",
       "2      1/3/2007  12:00:00 AM  WEB0784998        0096 WHITE   \n",
       "3      1/3/2007  12:00:00 AM  WEB0786966        0096 WHITE   \n",
       "4      1/3/2007  12:00:00 AM  WEB0790371        0096 WHITE   \n",
       "5      1/3/2007  12:00:00 AM  WEB0791955        0096 WHITE   \n",
       "6      1/3/2007  12:00:00 AM  WEB0792086        0096 WHITE   \n",
       "7      1/3/2007  12:00:00 AM    G0790461        0096 WHITE   \n",
       "8      1/3/2007  12:00:00 AM    G0791465        0096 WHITE   \n",
       "9      1/3/2007  12:00:00 AM    G0784248        0096 WHITE   \n",
       "...                      ...         ...               ...   \n",
       "6198   2/1/2007  12:00:00 AM    G0811143  C4318 STEEL.GREY   \n",
       "6199  3/16/2007  12:00:00 AM    G0837069    C6987 ALUMINUM   \n",
       "6200   1/6/2007  12:00:00 AM    G0794773      C7080 CHROME   \n",
       "6201   1/6/2007  12:00:00 AM    G0794773      C7081 CHROME   \n",
       "6202  2/23/2007  12:00:00 AM    G0821027     C8224 NATURAL   \n",
       "6203  3/12/2007  12:00:00 AM    G0825669     C8224 NATURAL   \n",
       "6204   1/3/2007  12:00:00 AM    G0790232     C9518 OPALINE   \n",
       "6205  1/10/2007  12:00:00 AM    G0796690    C9803 ALUMINUM   \n",
       "6206  2/14/2007  12:00:00 AM    G0817437        P8764 NONE   \n",
       "6207  2/20/2007  12:00:00 AM    G0818455        P8764 NONE   \n",
       "\n",
       "                                   ItemDescription  \\\n",
       "0          Nelson Saucer Pendant Lamp - Med, White   \n",
       "1          Nelson Saucer Pendant Lamp - Med, White   \n",
       "2          Nelson Saucer Pendant Lamp - Med, White   \n",
       "3          Nelson Saucer Pendant Lamp - Med, White   \n",
       "4          Nelson Saucer Pendant Lamp - Med, White   \n",
       "5          Nelson Saucer Pendant Lamp - Med, White   \n",
       "6          Nelson Saucer Pendant Lamp - Med, White   \n",
       "7          Nelson Saucer Pendant Lamp - Med, White   \n",
       "8          Nelson Saucer Pendant Lamp - Med, White   \n",
       "9          Nelson Saucer Pendant Lamp - Med, White   \n",
       "...                                            ...   \n",
       "6198           Arco Floor Lamp - Shade, Steel Grey   \n",
       "6199                       Kelvin Task Lamp - Base   \n",
       "6200        Pantop Table Lamp Small - Base, Chrome   \n",
       "6201       Pantop Table Lamp Small - Shade, Chrome   \n",
       "6202              Gilda Floor Lamp Shade , Natural   \n",
       "6203              Gilda Floor Lamp Shade , Natural   \n",
       "6204              Mirandolina - Opal Dome, Opaline   \n",
       "6205     Cellula Chandelier - 32 in. Rod, Aluminum   \n",
       "6206  Nelson Lamp Ceiling Plate and Hardware, None   \n",
       "6207  Nelson Lamp Ceiling Plate and Hardware, None   \n",
       "\n",
       "                      OrderLocation   ...    Current_GM_Each     Class  \\\n",
       "0             200 - DWR Call Center   ...              52.31  PENDANTS   \n",
       "1             200 - DWR Call Center   ...              52.31  PENDANTS   \n",
       "2        205 - zz_Website - dwr.com   ...              52.31  PENDANTS   \n",
       "3        205 - zz_Website - dwr.com   ...              52.31  PENDANTS   \n",
       "4        205 - zz_Website - dwr.com   ...              52.31  PENDANTS   \n",
       "5        205 - zz_Website - dwr.com   ...              52.31  PENDANTS   \n",
       "6        205 - zz_Website - dwr.com   ...              52.31  PENDANTS   \n",
       "7         213 - Santa Monica Studio   ...              52.31  PENDANTS   \n",
       "8             216 - Portland Studio   ...              52.31  PENDANTS   \n",
       "9     227 - Brooklyn Heights Studio   ...              52.31  PENDANTS   \n",
       "...                             ...   ...                ...       ...   \n",
       "6198          200 - DWR Call Center   ...              49.06     FLOOR   \n",
       "6199       245 - Minneapolis Studio   ...              53.84      TASK   \n",
       "6200        249 - Birmingham Studio   ...              58.92     TABLE   \n",
       "6201        249 - Birmingham Studio   ...              58.93     TABLE   \n",
       "6202           223 - Chelsea Studio   ...              43.65     FLOOR   \n",
       "6203              221 - Soho Studio   ...              43.65     FLOOR   \n",
       "6204           271 - Potrero Studio   ...              40.89     TABLE   \n",
       "6205      234 - North Avenue Studio   ...              38.48  PENDANTS   \n",
       "6206          230 - Berkeley Studio   ...              45.64  PENDANTS   \n",
       "6207           271 - Potrero Studio   ...              45.64  PENDANTS   \n",
       "\n",
       "      Category Sub_Class Quarter  \n",
       "0         MISC      MISC   Q1 07  \n",
       "1         MISC      MISC   Q1 07  \n",
       "2         MISC      MISC   Q1 07  \n",
       "3         MISC      MISC   Q1 07  \n",
       "4         MISC      MISC   Q1 07  \n",
       "5         MISC      MISC   Q1 07  \n",
       "6         MISC      MISC   Q1 07  \n",
       "7         MISC      MISC   Q1 07  \n",
       "8         MISC      MISC   Q1 07  \n",
       "9         MISC      MISC   Q1 07  \n",
       "...        ...       ...     ...  \n",
       "6198      MISC      MISC   Q1 07  \n",
       "6199      MISC      MISC   Q1 07  \n",
       "6200      MISC      MISC   Q1 07  \n",
       "6201      MISC      MISC   Q1 07  \n",
       "6202      MISC      MISC   Q1 07  \n",
       "6203      MISC      MISC   Q1 07  \n",
       "6204      MISC      MISC   Q1 07  \n",
       "6205      MISC      MISC   Q1 07  \n",
       "6206      MISC      MISC   Q1 07  \n",
       "6207      MISC      MISC   Q1 07  \n",
       "\n",
       "[6208 rows x 19 columns]>"
      ]
     },
     "execution_count": 30,
     "metadata": {},
     "output_type": "execute_result"
    }
   ],
   "source": [
    "df.isnull\n"
   ]
  },
  {
   "cell_type": "code",
   "execution_count": 31,
   "metadata": {
    "collapsed": false
   },
   "outputs": [
    {
     "data": {
      "text/plain": [
       "(6208, 19)"
      ]
     },
     "execution_count": 31,
     "metadata": {},
     "output_type": "execute_result"
    }
   ],
   "source": [
    "df.shape\n"
   ]
  },
  {
   "cell_type": "code",
   "execution_count": 34,
   "metadata": {
    "collapsed": false
   },
   "outputs": [
    {
     "name": "stdout",
     "output_type": "stream",
     "text": [
      "Class\n"
     ]
    }
   ],
   "source": [
    "print ('Class')"
   ]
  },
  {
   "cell_type": "code",
   "execution_count": null,
   "metadata": {
    "collapsed": true
   },
   "outputs": [],
   "source": []
  }
 ],
 "metadata": {
  "anaconda-cloud": {},
  "kernelspec": {
   "display_name": "Python [conda root]",
   "language": "python",
   "name": "conda-root-py"
  },
  "language_info": {
   "codemirror_mode": {
    "name": "ipython",
    "version": 2
   },
   "file_extension": ".py",
   "mimetype": "text/x-python",
   "name": "python",
   "nbconvert_exporter": "python",
   "pygments_lexer": "ipython2",
   "version": "2.7.12"
  }
 },
 "nbformat": 4,
 "nbformat_minor": 1
}
